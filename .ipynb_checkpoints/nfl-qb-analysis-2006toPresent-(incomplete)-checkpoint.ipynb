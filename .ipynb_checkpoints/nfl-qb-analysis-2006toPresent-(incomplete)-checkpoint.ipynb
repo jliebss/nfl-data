{
 "cells": [
  {
   "cell_type": "markdown",
   "metadata": {},
   "source": [
    "# Introduction\n",
    "This project aims to analyze the top 40 quarterbacks in the NFL based on four key metrics: Expected Points Added Per Play, Completion Percentage Over Expectation, Yards Per Play, and Touchdowns Per Play / Turnovers Per Play. Traditional stats such as passing touchdowns, total yards, and completion percentage can be misleading as they are very dependent on the situation, so these stats will hopefully provide a better analysis. It is a tight MVP race this year with Aaron Rodgers and Pat Mahomes the favorites and Josh Allen surging. Let's see who the stats favor."
   ]
  },
  {
   "cell_type": "markdown",
   "metadata": {},
   "source": [
    "# Prep"
   ]
  },
  {
   "cell_type": "code",
   "execution_count": 1,
   "metadata": {},
   "outputs": [],
   "source": [
    "#Import packages\n",
    "import pandas as pd\n",
    "import matplotlib.pyplot as plt\n",
    "import seaborn as sns\n",
    "import numpy as np\n",
    "import math"
   ]
  },
  {
   "cell_type": "code",
   "execution_count": 2,
   "metadata": {},
   "outputs": [],
   "source": [
    "#Configure DataFrame settings\n",
    "pd.set_option('display.max_colwidth', None)\n",
    "pd.set_option('display.max_columns', None)\n",
    "pd.set_option('display.max_rows', 10)"
   ]
  },
  {
   "cell_type": "code",
   "execution_count": 3,
   "metadata": {},
   "outputs": [],
   "source": [
    "# #Import data\n",
    "# YEAR = 2020\n",
    "\n",
    "# df = pd.read_csv(\n",
    "#    'https://github.com/guga31bb/nflfastR-data/blob/master/data/play_by_play_' \\\n",
    "#    + str(YEAR) + '.csv.gz?raw=True',compression='gzip', low_memory=False)"
   ]
  },
  {
   "cell_type": "code",
   "execution_count": null,
   "metadata": {},
   "outputs": [],
   "source": [
    "#Multiple seasons\n",
    "YEARS = [2020,2019,2018,2017,2016,2014,2013,2012,2011,2010,2009,2008,2007,2006]\n",
    "\n",
    "df = pd.DataFrame()\n",
    "\n",
    "for i in YEARS:  \n",
    "   i_data = pd.read_csv(\n",
    "       'https://github.com/guga31bb/nflfastR-data/blob/' \\\n",
    "       'master/data/play_by_play_' + str(i) + '.csv.gz?raw=True',\n",
    "       compression='gzip', low_memory=False\n",
    "       )\n",
    " \n",
    "df = df.append(i_data, sort=True)"
   ]
  },
  {
   "cell_type": "code",
   "execution_count": null,
   "metadata": {},
   "outputs": [],
   "source": [
    "#Clean up air_yards fields as recommended in tutorial\n",
    "df[\"air_yards\"] = np.where(df[\"air_yards\"]<-10, df[\"air_yards\"].median(), df[\"air_yards\"])"
   ]
  },
  {
   "cell_type": "code",
   "execution_count": null,
   "metadata": {},
   "outputs": [],
   "source": [
    "#Store list of columns for future reference\n",
    "cols = sorted(list(df.columns))"
   ]
  },
  {
   "cell_type": "markdown",
   "metadata": {},
   "source": [
    "# Initialize DataFrame of QB ranks\n",
    "This is the DataFrame I will use to rank the quarterbacks. Each QB will be assigned points for how they perform in the different statistics and then those points will be totaled to form a final ranking."
   ]
  },
  {
   "cell_type": "code",
   "execution_count": null,
   "metadata": {
    "scrolled": true
   },
   "outputs": [],
   "source": [
    "qb_rank = df[[\"name\",\"pass_attempt\"]].groupby(\"name\").sum().sort_values(\"pass_attempt\",ascending=False).head(40).sort_values(\"name\")\n",
    "qb_rank.reset_index(level=0, inplace=True)\n",
    "qb_rank = qb_rank.drop(\"pass_attempt\",axis=1)\n",
    "qb_rank[\"epa_points\"] = 0\n",
    "qb_rank[\"cpoe_points\"] = 0\n",
    "qb_rank[\"ypp_points\"] = 0\n",
    "qb_rank[\"ratio_points\"] = 0\n",
    "qb_rank[\"total\"] = 0\n",
    "qb_rank"
   ]
  },
  {
   "cell_type": "code",
   "execution_count": null,
   "metadata": {},
   "outputs": [],
   "source": [
    "#Grab a list of the top 40 QBs by pass attempts\n",
    "top_qbs = qb_rank[\"name\"].tolist()"
   ]
  },
  {
   "cell_type": "markdown",
   "metadata": {},
   "source": [
    "# Step 1: Ranking by EPA & CPOE\n",
    "\n",
    "EPA - Expected Points Added: the average Expected Points Added per play in which an offensive player is directly involved. EPA/P is a measure of an individual player’s impact on the scores of his games, on a per play basis.\n",
    "\n",
    "CPOE - Completion Percentage Over Expectation: the quarterback's actual completion percentage minus the expected completion percentage.\n",
    "\n",
    "I am grouping these two together because they demonstrate the QB's ability to be accurate with their throws while also pushing the ball downfield to produce points."
   ]
  },
  {
   "cell_type": "code",
   "execution_count": null,
   "metadata": {},
   "outputs": [],
   "source": [
    "#Create a dataframe of their average EPA and CPOE per play\n",
    "qb_stat1 = df[df[\"name\"].isin(top_qbs)][[\"name\",\"epa\",\"cpoe\"]].groupby(\"name\").mean()\n",
    "qb_stat1.reset_index(level=0, inplace=True)\n",
    "qb_stat1.head()"
   ]
  },
  {
   "cell_type": "code",
   "execution_count": null,
   "metadata": {
    "scrolled": false
   },
   "outputs": [],
   "source": [
    "#Create scatterplot\n",
    "plt.figure(figsize=(12,12))\n",
    "g = sns.scatterplot(x=\"cpoe\",y=\"epa\",palette=\"Set1_r\",data=qb_stat1,s=100)\n",
    "g.axhline(0)\n",
    "g.axvline(qb_stat1[\"cpoe\"].mean())\n",
    "\n",
    "\n",
    "def label_point(x, y, val, ax):\n",
    "    a = pd.concat({'x': x, 'y': y, 'val': val}, axis=1)\n",
    "    for i, point in a.iterrows():\n",
    "        ax.text(point['x']+.02, point['y'], str(point['val']))\n",
    "\n",
    "label_point(qb_stat1.cpoe, qb_stat1.epa, qb_stat1.name, plt.gca())\n",
    "\n",
    "plt.xlabel('Completion Percentage Over Expectation')\n",
    "plt.ylabel('Expected Points Added Per Play')"
   ]
  },
  {
   "cell_type": "markdown",
   "metadata": {},
   "source": [
    "## Analysis\n",
    "Aaron Rodgers is a clear standout here. As the top QB in EPA/play and one of the best in CPOE, he is all alone in the top right, showing that he is the best at combining accuracy with point production. Other elite QBs like Josh Allen, Deshaun Watson, and Pat Mahomes are up there as well. A few QBs of note include Nick Foles, all by himself in the bottom right quadrant. He is above average in terms of accuracy but well below a positive EPA/play. Jalen Hurts, who has only started a few games, has a positive EPA/play, but is among the least accurate passers in the league."
   ]
  },
  {
   "cell_type": "markdown",
   "metadata": {},
   "source": [
    "## Assign rankings\n",
    "The best QB in a each statistic is given 40 points, the second best 39 points, etc."
   ]
  },
  {
   "cell_type": "code",
   "execution_count": null,
   "metadata": {},
   "outputs": [],
   "source": [
    "qb_rank[\"epa_points\"] = qb_stat1[\"epa\"].rank(method=\"max\")\n",
    "qb_rank[\"cpoe_points\"] = qb_stat1[\"cpoe\"].rank(method=\"max\")\n",
    "qb_rank[\"total\"] = qb_rank[\"epa_points\"]+qb_rank[\"cpoe_points\"]\n",
    "qb_rank.sort_values(\"total\",ascending=False)"
   ]
  },
  {
   "cell_type": "markdown",
   "metadata": {},
   "source": [
    "# Step 2: Ranking by YPP and TD/Turnover Ratio\n",
    "YPP - Yards Per Play: the average pass or rush yards gained each play by the quarterback.\n",
    "\n",
    "TD/Turnover Ratio: the average touchdowns scored each play divided by the average fumbles or interceptions each play. (Note: I include all fumbles, not just fumbles lost, because once fumbled it is primarily based on luch which team recovers.)\n",
    "\n",
    "These statistics highlight the QB's ability to move the offense downfield, rack up touchdowns, and protect the football."
   ]
  },
  {
   "cell_type": "code",
   "execution_count": null,
   "metadata": {
    "scrolled": true
   },
   "outputs": [],
   "source": [
    "#Create a DataFrame that holds the YPP and TD/Turnover Ratio\n",
    "\n",
    "qb_stat2 = df[df[\"name\"].isin(top_qbs)][[\"name\",\"pass_touchdown\",\"rush_touchdown\",\"fumble\",\"interception\",\"yards_gained\"]].groupby(\"name\").mean()\n",
    "qb_stat2[\"td_rate\"] = qb_stat2[\"pass_touchdown\"]+qb_stat2[\"rush_touchdown\"]\n",
    "qb_stat2[\"trnvr_rate\"] = qb_stat2[\"fumble\"]+qb_stat2[\"interception\"]\n",
    "qb_stat2[\"ratio\"] = qb_stat2[\"td_rate\"]/qb_stat2[\"trnvr_rate\"]\n",
    "qb_stat2.reset_index(level=0, inplace=True)\n",
    "qb_stat2.sort_values(\"ratio\",ascending=False)"
   ]
  },
  {
   "cell_type": "code",
   "execution_count": null,
   "metadata": {},
   "outputs": [],
   "source": [
    "#Create scatterplot\n",
    "plt.figure(figsize=(12,12))\n",
    "g = sns.scatterplot(x=\"yards_gained\",y=\"ratio\",palette=\"Set1_r\",data=qb_stat2,s=100)\n",
    "g.axhline(qb_stat2[\"ratio\"].mean())\n",
    "g.axvline(qb_stat2[\"yards_gained\"].mean())\n",
    "\n",
    "\n",
    "def label_point(x, y, val, ax):\n",
    "    a = pd.concat({'x': x, 'y': y, 'val': val}, axis=1)\n",
    "    for i, point in a.iterrows():\n",
    "        ax.text(point['x']+.02, point['y'], str(point['val']))\n",
    "\n",
    "label_point(qb_stat2.yards_gained, qb_stat2.ratio, qb_stat2.name, plt.gca()) \n",
    "\n",
    "plt.xlabel('Yards Per Play')\n",
    "plt.ylabel('TDs/Turnovers Per Play')"
   ]
  },
  {
   "cell_type": "markdown",
   "metadata": {},
   "source": [
    "## Analysis\n",
    "Have a season, Aaron Rodgers! A hallmark of Rodgers' career has been producing touchdowns while avoiding turnovers, but it's striking to see him so much better than the next best QB in this statistic, Tua Tagovailoa (how about that for a surprise!). He takes care of the ball so well while also being among the leaders in YPP. Dak Prescott leads that category, but hasn't played a game since October due to injury. Of note: Tagovailoa has done a great job protecting the ball and producing touchdowns in his young career, but has been pulled from games due to his inability to generate yardage, where he is among the league's worst. Interestingly, his QB counterpart in Miami, Ryan Fitzpatrick, is the exact opposite, as he is nearly top-five in YPP but below average in taking care of the football."
   ]
  },
  {
   "cell_type": "markdown",
   "metadata": {},
   "source": [
    "## Assign rankings"
   ]
  },
  {
   "cell_type": "code",
   "execution_count": null,
   "metadata": {},
   "outputs": [],
   "source": [
    "qb_rank[\"ypp_points\"] = qb_stat2[\"yards_gained\"].rank(method=\"max\")\n",
    "qb_rank[\"ratio_points\"] = qb_stat2[\"ratio\"].rank(method=\"max\")\n",
    "qb_rank = qb_rank.drop(\"total\",axis=1)\n",
    "qb_rank[\"total\"] = qb_rank[\"epa_points\"]+qb_rank[\"cpoe_points\"]+qb_rank[\"ypp_points\"]+qb_rank[\"ratio_points\"]\n",
    "qb_rank.sort_values(\"total\",ascending=False)"
   ]
  },
  {
   "cell_type": "code",
   "execution_count": null,
   "metadata": {
    "scrolled": false
   },
   "outputs": [],
   "source": [
    "#Create horizontal bar chart to visualize final rankings\n",
    "ranked_qb_list = list(qb_rank.sort_values(\"total\",ascending=False)[\"name\"])\n",
    "\n",
    "fig, ax = plt.subplots(figsize=(10,16))\n",
    "graph = sns.barplot(x=\"total\",y=\"name\",data=qb_rank,order=ranked_qb_list,color=\"#3F7FBF\")\n",
    "\n",
    "plt.xlabel(\"Total Points\")\n",
    "plt.ylabel(\"\")\n",
    "plt.title(\"Top NFL QBs\")\n",
    "\n",
    "\n",
    "for item in graph.get_xticklabels():\n",
    "    item.set_rotation(90)\n",
    "    \n",
    "totals = qb_rank[\"total\"].sort_values(ascending=False).astype(np.int64)\n",
    "for i, v in enumerate(totals):\n",
    "    ax.text(v + 1, i, str(v), color='black', fontweight='normal', fontsize=10, ha='left', va='center')"
   ]
  },
  {
   "cell_type": "markdown",
   "metadata": {},
   "source": [
    "## Analysis\n",
    "According to these statistics, Aaron Rodgers is far and away the 2020 MVP as he pilots the Green Bay Packers into a possible #1 seed in the NFC. Pat Mahomes comes in second but surprisingly is trailed very closely by Deshaun Watson who is having the best season of his career despite being surrounded by terrible talent. Tom Brady and Ryan Fitzpatrick are having career resurgences, while Cam Newton looks like he may have exited his prime for good. And as for Dwayne Haskins; well, let's just hope that Ohio State degree will get him a steady job."
   ]
  }
 ],
 "metadata": {
  "kernelspec": {
   "display_name": "Python 3",
   "language": "python",
   "name": "python3"
  },
  "language_info": {
   "codemirror_mode": {
    "name": "ipython",
    "version": 3
   },
   "file_extension": ".py",
   "mimetype": "text/x-python",
   "name": "python",
   "nbconvert_exporter": "python",
   "pygments_lexer": "ipython3",
   "version": "3.7.6"
  }
 },
 "nbformat": 4,
 "nbformat_minor": 4
}
